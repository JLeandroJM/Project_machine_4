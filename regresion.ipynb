{
 "cells": [
  {
   "cell_type": "code",
   "execution_count": 1,
   "metadata": {},
   "outputs": [],
   "source": [
    "import os\n",
    "import numpy as np\n",
    "import pandas as pd\n",
    "import librosa\n",
    "from sklearn.preprocessing import StandardScaler\n",
    "from sklearn.model_selection import train_test_split\n",
    "from sklearn.metrics import confusion_matrix, classification_report\n",
    "import math\n",
    "import matplotlib.pyplot as plt\n",
    "import seaborn as sns\n",
    "from IPython.display import Audio"
   ]
  },
  {
   "cell_type": "code",
   "execution_count": 2,
   "metadata": {},
   "outputs": [],
   "source": [
    "def extract_features(file_path):\n",
    "    y, sr = librosa.load(file_path, sr=2000)\n",
    "    mfccs = librosa.feature.mfcc(y=y, sr=sr, n_mfcc=13)\n",
    "    mfccs_mean = np.mean(mfccs, axis=1)\n",
    "    return mfccs_mean"
   ]
  },
  {
   "cell_type": "code",
   "execution_count": 3,
   "metadata": {},
   "outputs": [],
   "source": [
    "def encode(data_dir, csv_file):\n",
    "    df = pd.read_csv(os.path.join(data_dir, csv_file))\n",
    "    data = []\n",
    "    labels = []\n",
    "    \n",
    "    for index, row in df.iterrows():\n",
    "        file_name = f\"train/train/{row['idx']}.wav\"\n",
    "        file_path = os.path.join(data_dir, file_name)\n",
    "        if os.path.exists(file_path):\n",
    "            features = extract_features(file_path)\n",
    "            data.append(features)\n",
    "            labels.append(1 if row['class'] == 'RightWhale' else 0)\n",
    "    \n",
    "    data = np.array(data)\n",
    "    labels = np.array(labels)\n",
    "    return data, labels"
   ]
  },
  {
   "cell_type": "code",
   "execution_count": 4,
   "metadata": {},
   "outputs": [],
   "source": [
    "def matriz_confusion(y_test, y_pred, tipo):\n",
    "    matrix = confusion_matrix(y_test, y_pred)\n",
    "    matrix_norm = matrix.astype('float') / matrix.sum(axis=1)[:, np.newaxis]\n",
    "    f2 = pd.DataFrame(matrix_norm, index=[\"RightWhale\", 'NoWhale'], columns=[\"RightWhale\", 'NoWhale'])\n",
    "    sns.heatmap(f2, annot=True, cbar=None, cmap=\"Greens\")\n",
    "    plt.title(\"Confusion Matrix \" + tipo)\n",
    "    plt.tight_layout()\n",
    "    plt.xlabel(\"Predicted\")\n",
    "    plt.ylabel(\"Real\")\n",
    "    plt.show()"
   ]
  },
  {
   "cell_type": "code",
   "execution_count": 5,
   "metadata": {},
   "outputs": [],
   "source": [
    "data_dir = './data/'\n",
    "train_csv = 'train.csv'\n",
    "\n",
    "\n",
    "x, y = encode(data_dir, train_csv)\n"
   ]
  },
  {
   "cell_type": "code",
   "execution_count": 6,
   "metadata": {},
   "outputs": [],
   "source": [
    "scaler = StandardScaler()\n",
    "x_scaled = scaler.fit_transform(x)"
   ]
  },
  {
   "cell_type": "code",
   "execution_count": 7,
   "metadata": {},
   "outputs": [],
   "source": [
    "x_train, x_test, y_train, y_test = train_test_split(x_scaled, y, test_size=0.2, random_state=42)"
   ]
  },
  {
   "cell_type": "markdown",
   "metadata": {},
   "source": [
    "LOGISTICA"
   ]
  },
  {
   "cell_type": "code",
   "execution_count": 8,
   "metadata": {},
   "outputs": [],
   "source": [
    "def h(x, w):\n",
    "    return np.dot(x, w.T)\n",
    "\n",
    "def S(x, w):\n",
    "    return 1 / (1 + np.exp(-h(x, w)))\n",
    "\n",
    "def loss(y, y_aprox):\n",
    "    n = y.shape[0]\n",
    "    limite = 1e-15\n",
    "    s_vals = np.clip(y_aprox, 0+limite, 1-limite)\n",
    "    return (-1/n) * np.sum(y * np.log2(s_vals) + (1 - y) * np.log2(1 - s_vals))\n",
    "\n",
    "def derivatives(x, y, w):\n",
    "    n, m = x.shape\n",
    "    y_aprox = S(x, w)\n",
    "    dw = -(1/n) * np.dot(x.T, (y - y_aprox))\n",
    "    return dw\n",
    "\n",
    "def change_parameters(w, derivatives, alpha):\n",
    "    return w - alpha * derivatives\n",
    "\n",
    "def training(x, y, epochs, alpha):\n",
    "    L_value = []\n",
    "    n_features = x.shape[1]\n",
    "    np.random.seed(0)\n",
    "    w = np.random.rand(n_features)\n",
    "    for i in range(epochs):\n",
    "        y_aprox = S(x, w)\n",
    "        L = loss(y, y_aprox)\n",
    "        dw = derivatives(x, y, w)\n",
    "        w = change_parameters(w, dw, alpha)\n",
    "        L_value.append(L)\n",
    "    return L_value, w"
   ]
  },
  {
   "cell_type": "code",
   "execution_count": 9,
   "metadata": {},
   "outputs": [],
   "source": [
    "def predict(x_test, w):\n",
    "    y_pred = np.round(S(x_test, w))\n",
    "    return y_pred"
   ]
  },
  {
   "cell_type": "code",
   "execution_count": 10,
   "metadata": {},
   "outputs": [],
   "source": [
    "epochs = 1000\n",
    "alpha = 0.08\n",
    "L, W = training(x_train, y_train, epochs, alpha)"
   ]
  },
  {
   "cell_type": "code",
   "execution_count": 11,
   "metadata": {},
   "outputs": [],
   "source": [
    "y_pred = predict(x_test, W)"
   ]
  },
  {
   "cell_type": "code",
   "execution_count": 12,
   "metadata": {},
   "outputs": [
    {
     "data": {
      "image/png": "[encoded data removed]",
      "text/plain": [
       "<Figure size 640x480 with 1 Axes>"
      ]
     },
     "metadata": {},
     "output_type": "display_data"
    }
   ],
   "source": [
    "matriz_confusion(y_test, y_pred, \"Logistic Regression\")"
   ]
  },
  {
   "cell_type": "code",
   "execution_count": 13,
   "metadata": {},
   "outputs": [
    {
     "name": "stdout",
     "output_type": "stream",
     "text": [
      " My Model Metrics \n",
      "              precision    recall  f1-score   support\n",
      "\n",
      "  RightWhale       0.80      0.72      0.76      1059\n",
      "     NoWhale       0.76      0.83      0.79      1128\n",
      "\n",
      "    accuracy                           0.78      2187\n",
      "   macro avg       0.78      0.77      0.77      2187\n",
      "weighted avg       0.78      0.78      0.78      2187\n",
      "\n"
     ]
    }
   ],
   "source": [
    "report = classification_report(y_test, y_pred, target_names=[\"RightWhale\", 'NoWhale'])\n",
    "print(\" My Model Metrics \")\n",
    "print(report)"
   ]
  },
  {
   "cell_type": "code",
   "execution_count": 14,
   "metadata": {},
   "outputs": [],
   "source": [
    "def extract_test_features(data_dir):\n",
    "    test_dir = os.path.join(data_dir, 'test/test')\n",
    "    test_files = sorted(os.listdir(test_dir))\n",
    "    test_data = []\n",
    "    test_ids = []\n",
    "    \n",
    "    for file_name in test_files:\n",
    "        if file_name.endswith('.wav'):\n",
    "            file_path = os.path.join(test_dir, file_name)\n",
    "            features = extract_features(file_path)\n",
    "            test_data.append(features)\n",
    "            test_ids.append(int(file_name.split('.')[0]))  \n",
    "            \n",
    "    test_data = np.array(test_data)\n",
    "    return test_data, test_ids"
   ]
  },
  {
   "cell_type": "code",
   "execution_count": 15,
   "metadata": {},
   "outputs": [],
   "source": [
    "x_test_final, test_ids = extract_test_features(data_dir)\n",
    "\n",
    "x_test_final_scaled = scaler.transform(x_test_final)\n",
    "\n",
    "y_pred_final = predict(x_test_final_scaled, W)"
   ]
  },
  {
   "cell_type": "markdown",
   "metadata": {},
   "source": [
    "## Grafico del loss"
   ]
  },
  {
   "cell_type": "code",
   "execution_count": 19,
   "metadata": {},
   "outputs": [
    {
     "data": {
      "image/png": "[encoded data removed]",
      "text/plain": [
       "<Figure size 1000x600 with 1 Axes>"
      ]
     },
     "metadata": {},
     "output_type": "display_data"
    }
   ],
   "source": [
    "\n",
    "def plot_loss_curve(loss_values):\n",
    "    plt.figure(figsize=(10, 6))\n",
    "    plt.plot(loss_values, label='Loss')\n",
    "    plt.xlabel('Epochs')\n",
    "    plt.ylabel('Loss')\n",
    "    plt.title('Loss Curve during Training')\n",
    "    plt.legend()\n",
    "    plt.grid(True)\n",
    "    plt.show()\n",
    "\n",
    " \n",
    "plot_loss_curve(L)"
   ]
  }
 ],
 "metadata": {
  "kernelspec": {
   "display_name": "Python 3",
   "language": "python",
   "name": "python3"
  },
  "language_info": {
   "codemirror_mode": {
    "name": "ipython",
    "version": 3
   },
   "file_extension": ".py",
   "mimetype": "text/x-python",
   "name": "python",
   "nbconvert_exporter": "python",
   "pygments_lexer": "ipython3",
   "version": "3.11.0"
  }
 },
 "nbformat": 4,
 "nbformat_minor": 2
}
